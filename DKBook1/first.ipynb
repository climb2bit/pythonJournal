{
 "cells": [
  {
   "cell_type": "code",
   "execution_count": 2,
   "metadata": {},
   "outputs": [
    {
     "name": "stdout",
     "output_type": "stream",
     "text": [
      "How rude!\n"
     ]
    }
   ],
   "source": [
    "while True:\n",
    "    answer = input('Are you bored yet? (y/n)')\n",
    "    if answer == 'y':\n",
    "        print('How rude!')\n",
    "        break"
   ]
  },
  {
   "cell_type": "code",
   "execution_count": null,
   "metadata": {},
   "outputs": [],
   "source": []
  },
  {
   "cell_type": "code",
   "execution_count": 2,
   "metadata": {},
   "outputs": [
    {
     "name": "stdout",
     "output_type": "stream",
     "text": [
      "The correct answer is polar bear\n",
      "The correct answer is cheetah\n",
      "The correct answer is blue whale\n",
      "your score is 0\n"
     ]
    }
   ],
   "source": [
    "score=0\n",
    "def check_guess (guess,answer):\n",
    "    global score\n",
    "    still_guessing = True\n",
    "    attempt=0\n",
    "    while still_guessing and attempt < 3:\n",
    "        if guess.lower() == answer.lower():\n",
    "            print('correct answer')\n",
    "            score=score+1\n",
    "            still_guessing=False\n",
    "        else:\n",
    "            if attempt<2:\n",
    "                guess = input('Sorry wrong answer . Try again.')\n",
    "            attempt=attempt+1\n",
    "    if attempt == 3:\n",
    "        print('The correct answer is ' +answer)\n",
    "guess1 = input('which bear lives at the north pole?')\n",
    "check_guess(guess1, 'polar bear')\n",
    "\n",
    "guess2 = input('Which is the fastest land animal?')\n",
    "check_guess(guess2,'cheetah')\n",
    "\n",
    "guess3 = input('Which is the largest animal?')\n",
    "check_guess(guess3,'blue whale')\n",
    "\n",
    "print('your score is ' +str(score))"
   ]
  }
 ],
 "metadata": {
  "kernelspec": {
   "display_name": "pygame_env",
   "language": "python",
   "name": "python3"
  },
  "language_info": {
   "codemirror_mode": {
    "name": "ipython",
    "version": 3
   },
   "file_extension": ".py",
   "mimetype": "text/x-python",
   "name": "python",
   "nbconvert_exporter": "python",
   "pygments_lexer": "ipython3",
   "version": "3.9.0"
  }
 },
 "nbformat": 4,
 "nbformat_minor": 2
}
