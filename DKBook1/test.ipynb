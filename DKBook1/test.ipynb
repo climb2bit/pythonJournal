{
 "cells": [
  {
   "cell_type": "code",
   "execution_count": 3,
   "metadata": {},
   "outputs": [
    {
     "name": "stdout",
     "output_type": "stream",
     "text": [
      "86399999913600\n"
     ]
    }
   ],
   "source": [
    "def print_seconds_per_day(days):\n",
    "    hours = days *24\n",
    "    minutes = hours*60\n",
    "    seconds = minutes * 60\n",
    "    print(seconds)\n",
    "print_seconds_per_day(999999999)"
   ]
  },
  {
   "cell_type": "code",
   "execution_count": 9,
   "metadata": {},
   "outputs": [
    {
     "name": "stdout",
     "output_type": "stream",
     "text": [
      "Hello qwertyuiopasdfghjklzxcvbnm,./;'[]1234567890!@#$%^&*():\"<>?{}_+|\\\n"
     ]
    }
   ],
   "source": [
    "name = input('what is your name')\n",
    "greeting = \"Hello \" + name\n",
    "print(greeting)"
   ]
  }
 ],
 "metadata": {
  "kernelspec": {
   "display_name": "pygame_env",
   "language": "python",
   "name": "python3"
  },
  "language_info": {
   "codemirror_mode": {
    "name": "ipython",
    "version": 3
   },
   "file_extension": ".py",
   "mimetype": "text/x-python",
   "name": "python",
   "nbconvert_exporter": "python",
   "pygments_lexer": "ipython3",
   "version": "3.9.0"
  }
 },
 "nbformat": 4,
 "nbformat_minor": 2
}
