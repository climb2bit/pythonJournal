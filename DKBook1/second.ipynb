{
 "cells": [
  {
   "cell_type": "code",
   "execution_count": 1,
   "metadata": {},
   "outputs": [
    {
     "name": "stdout",
     "output_type": "stream",
     "text": [
      "welcome to password picker!\n",
      "your new password is: redfire80:\n",
      "your new password is: tinydinosaur740+\n"
     ]
    }
   ],
   "source": [
    "import random\n",
    "import string\n",
    "adjectives = ['sleepy', 'wierd','smelly', 'wet', 'dry', 'long', 'blue', 'purple','fierce' ,'shiny', 'red','fluffy','poisonous','tiny', 'funny', 'annoying','useless']\n",
    "nouns = ['piano','train','coke','hamburger','computer','battries','sofa','bus','car','truck','money','snake','panda','toilet','magma','fire','tree','books','desert','dinosaur']\n",
    "print('welcome to password picker!')\n",
    "while True:\n",
    "    adjective = random.choice(adjectives)\n",
    "    noun = random.choice(nouns)\n",
    "    number = random.randrange(0,1001)\n",
    "    special_char = random.choice(string. punctuation)\n",
    "    password = adjective + noun + str(number) + special_char\n",
    "    print ('your new password is: %s' % password)\n",
    "    response = input('would you like another password? Type(y/n)')\n",
    "    if response == 'n':\n",
    "        break"
   ]
  }
 ],
 "metadata": {
  "kernelspec": {
   "display_name": "pygame_env",
   "language": "python",
   "name": "python3"
  },
  "language_info": {
   "codemirror_mode": {
    "name": "ipython",
    "version": 3
   },
   "file_extension": ".py",
   "mimetype": "text/x-python",
   "name": "python",
   "nbconvert_exporter": "python",
   "pygments_lexer": "ipython3",
   "version": "3.9.0"
  }
 },
 "nbformat": 4,
 "nbformat_minor": 2
}
